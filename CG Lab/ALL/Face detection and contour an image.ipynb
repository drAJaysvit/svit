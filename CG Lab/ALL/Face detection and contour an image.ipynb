{
 "cells": [
  {
   "cell_type": "markdown",
   "id": "c1bbde2d",
   "metadata": {},
   "source": [
    "# Program 12 Face detection"
   ]
  },
  {
   "cell_type": "code",
   "execution_count": 1,
   "id": "0d36d5c6",
   "metadata": {},
   "outputs": [],
   "source": [
    "import cv2"
   ]
  },
  {
   "cell_type": "code",
   "execution_count": 2,
   "id": "777f1c1e",
   "metadata": {},
   "outputs": [],
   "source": [
    "# Load the pre-trained face detection model\n",
    "face_cascade = cv2.CascadeClassifier(cv2.data.haarcascades + 'haarcascade_frontalface_default.xml')\n"
   ]
  },
  {
   "cell_type": "code",
   "execution_count": 22,
   "id": "c5abc8a7",
   "metadata": {},
   "outputs": [],
   "source": [
    "# Load the image\n",
    "image_path = r\"C:\\Users\\divya\\OneDrive\\Pictures\\image4.jpeg\"\n",
    "image = cv2.imread(image_path)"
   ]
  },
  {
   "cell_type": "code",
   "execution_count": 23,
   "id": "2198a30e",
   "metadata": {},
   "outputs": [],
   "source": [
    "# Convert the image to grayscale (face detection works on grayscale images)\n",
    "gray_image = cv2.cvtColor(image, cv2.COLOR_BGR2GRAY)"
   ]
  },
  {
   "cell_type": "code",
   "execution_count": 24,
   "id": "241826a5",
   "metadata": {},
   "outputs": [],
   "source": [
    "# Detect faces in the image\n",
    "faces = face_cascade.detectMultiScale(gray_image, scaleFactor=1.1, minNeighbors=5, minSize=(30, 30))"
   ]
  },
  {
   "cell_type": "code",
   "execution_count": 25,
   "id": "49473acc",
   "metadata": {},
   "outputs": [],
   "source": [
    "# Draw rectangles around the detected faces\n",
    "for (x, y, w, h) in faces:\n",
    "    cv2.rectangle(image, (x, y), (x+w, y+h), (0, 255, 0), 2)"
   ]
  },
  {
   "cell_type": "code",
   "execution_count": 26,
   "id": "a252310b",
   "metadata": {},
   "outputs": [],
   "source": [
    "# Display the image with detected faces\n",
    "cv2.imshow('Detected Faces', image)\n",
    "cv2.waitKey(0)\n",
    "cv2.destroyAllWindows()"
   ]
  },
  {
   "cell_type": "raw",
   "id": "7966247d",
   "metadata": {},
   "source": []
  },
  {
   "cell_type": "code",
   "execution_count": null,
   "id": "adbad6c7",
   "metadata": {},
   "outputs": [],
   "source": []
  },
  {
   "cell_type": "markdown",
   "id": "814b2b16",
   "metadata": {},
   "source": [
    "# Program 11 Program to contour an image"
   ]
  },
  {
   "cell_type": "code",
   "execution_count": 28,
   "id": "42811abe",
   "metadata": {},
   "outputs": [],
   "source": [
    "import cv2\n",
    "\n",
    "# Load the image\n",
    "image_path = r\"C:\\Users\\divya\\OneDrive\\Pictures\\geometry.jpeg\"\n",
    "image = cv2.imread(image_path)\n",
    "\n",
    "# Convert the image to grayscale\n",
    "gray_image = cv2.cvtColor(image, cv2.COLOR_BGR2GRAY)\n",
    "\n",
    "# Apply a threshold to the grayscale image\n",
    "ret, thresh = cv2.threshold(gray_image, 127, 255, 0)\n",
    "\n",
    "# Find contours in the thresholded image\n",
    "contours, hierarchy = cv2.findContours(thresh, cv2.RETR_TREE, cv2.CHAIN_APPROX_SIMPLE)\n",
    "\n",
    "# Draw contours on the original image\n",
    "contour_image = cv2.drawContours(image, contours, -1, (0, 255, 0), 3)\n",
    "\n",
    "# Display the contour image\n",
    "cv2.imshow('Contoured Image', contour_image)\n",
    "cv2.waitKey(0)\n",
    "cv2.destroyAllWindows()\n"
   ]
  },
  {
   "cell_type": "code",
   "execution_count": null,
   "id": "aa531e80",
   "metadata": {},
   "outputs": [],
   "source": []
  }
 ],
 "metadata": {
  "kernelspec": {
   "display_name": "Python 3 (ipykernel)",
   "language": "python",
   "name": "python3"
  },
  "language_info": {
   "codemirror_mode": {
    "name": "ipython",
    "version": 3
   },
   "file_extension": ".py",
   "mimetype": "text/x-python",
   "name": "python",
   "nbconvert_exporter": "python",
   "pygments_lexer": "ipython3",
   "version": "3.9.13"
  }
 },
 "nbformat": 4,
 "nbformat_minor": 5
}
