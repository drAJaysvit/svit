{
 "cells": [
  {
   "cell_type": "code",
   "execution_count": 1,
   "id": "75078ff6",
   "metadata": {},
   "outputs": [],
   "source": [
    "# Importing the modules \n",
    "import cv2 \n",
    "import numpy as np \n",
    "\n",
    "# Reading the image \n",
    "image = cv2.imread(r\"C:\\Users\\divya\\OneDrive\\Pictures\\image4.jpeg\") \n",
    "\n",
    "# Creating the kernel with numpy \n",
    "kernel2 = np.ones((5, 5), np.float32)/25\n",
    "\n",
    "# Applying the filter \n",
    "img = cv2.filter2D(src=image, ddepth=-1, kernel=kernel2) \n",
    "\n",
    "# showing the image \n",
    "cv2.imshow('Original', image) \n",
    "cv2.imshow('Kernel Blur', img) \n",
    "\n",
    "cv2.waitKey() \n",
    "cv2.destroyAllWindows() \n"
   ]
  },
  {
   "cell_type": "code",
   "execution_count": 3,
   "id": "f5bb54df",
   "metadata": {},
   "outputs": [],
   "source": [
    "# Importing the modules \n",
    "import cv2 \n",
    "import numpy as np \n",
    "\n",
    "# Reading the image \n",
    "image = cv2.imread(r\"C:\\Users\\divya\\OneDrive\\Pictures\\image4.jpeg\") \n",
    "\n",
    "# Applying the filter \n",
    "averageBlur = cv2.blur(image, (5, 5)) \n",
    "\n",
    "# Showing the image \n",
    "cv2.imshow('Original', image) \n",
    "cv2.imshow('Average blur', averageBlur) \n",
    "\n",
    "cv2.waitKey() \n",
    "cv2.destroyAllWindows() \n"
   ]
  },
  {
   "cell_type": "code",
   "execution_count": 5,
   "id": "c7fa0a2e",
   "metadata": {},
   "outputs": [],
   "source": [
    "# Importing the module \n",
    "import cv2 \n",
    "import numpy as np \n",
    "\n",
    "# Reading the image \n",
    "image = cv2.imread(r\"C:\\Users\\divya\\OneDrive\\Pictures\\image4.jpeg\") \n",
    "\n",
    "# Applying the filter \n",
    "gaussian = cv2.GaussianBlur(image, (3, 3), 0) \n",
    "\n",
    "# Showing the image \n",
    "cv2.imshow('Original', image) \n",
    "cv2.imshow('Gaussian blur', gaussian) \n",
    "\n",
    "cv2.waitKey() \n",
    "cv2.destroyAllWindows() \n"
   ]
  },
  {
   "cell_type": "code",
   "execution_count": 6,
   "id": "b3e65b24",
   "metadata": {},
   "outputs": [],
   "source": [
    "# Importing the modules \n",
    "import cv2 \n",
    "import numpy as np \n",
    "\n",
    "# Reading the image \n",
    "image = cv2.imread(r\"C:\\Users\\divya\\OneDrive\\Pictures\\image4.jpeg\") \n",
    "\n",
    "# Applying the filter \n",
    "medianBlur = cv2.medianBlur(image, 9) \n",
    "\n",
    "# Showing the image \n",
    "cv2.imshow('Original', image) \n",
    "cv2.imshow('Median blur', medianBlur) \n",
    "\n",
    "cv2.waitKey() \n",
    "cv2.destroyAllWindows() \n"
   ]
  },
  {
   "cell_type": "code",
   "execution_count": 7,
   "id": "c8cead7b",
   "metadata": {},
   "outputs": [],
   "source": [
    "# Importing the modules \n",
    "import cv2 \n",
    "import numpy as np \n",
    "\n",
    "# Reading the image \n",
    "image = cv2.imread(r\"C:\\Users\\divya\\OneDrive\\Pictures\\image4.jpeg\") \n",
    "\n",
    "# Applying the filter \n",
    "bilateral = cv2.bilateralFilter(image, 9, 75, 75) \n",
    "\n",
    "# Showing the image \n",
    "cv2.imshow('Original', image) \n",
    "cv2.imshow('Bilateral blur', bilateral) \n",
    "\n",
    "cv2.waitKey() \n",
    "cv2.destroyAllWindows() \n"
   ]
  },
  {
   "cell_type": "code",
   "execution_count": null,
   "id": "7c83ece2",
   "metadata": {},
   "outputs": [],
   "source": []
  }
 ],
 "metadata": {
  "kernelspec": {
   "display_name": "Python 3 (ipykernel)",
   "language": "python",
   "name": "python3"
  },
  "language_info": {
   "codemirror_mode": {
    "name": "ipython",
    "version": 3
   },
   "file_extension": ".py",
   "mimetype": "text/x-python",
   "name": "python",
   "nbconvert_exporter": "python",
   "pygments_lexer": "ipython3",
   "version": "3.9.13"
  }
 },
 "nbformat": 4,
 "nbformat_minor": 5
}
