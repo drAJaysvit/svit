{
 "cells": [
  {
   "cell_type": "code",
   "execution_count": 2,
   "id": "223805d2",
   "metadata": {},
   "outputs": [],
   "source": [
    "import cv2\n",
    "import numpy as np\n",
    "\n",
    "# Load the image\n",
    "image_path = r\"C:\\Users\\divya\\OneDrive\\Pictures\\Image3.jpeg\"\n",
    "image = cv2.imread(image_path)\n",
    "\n",
    "# Convert the image to grayscale\n",
    "gray_image = cv2.cvtColor(image, cv2.COLOR_BGR2GRAY)\n",
    "\n",
    "# Apply Sobel edge detection\n",
    "sobel_x = cv2.Sobel(gray_image, cv2.CV_64F, 1, 0, ksize=3)\n",
    "sobel_y = cv2.Sobel(gray_image, cv2.CV_64F, 0, 1, ksize=3)\n",
    "sobel_combined = cv2.addWeighted(cv2.convertScaleAbs(sobel_x), 0.5, cv2.convertScaleAbs(sobel_y), 0.5, 0)\n",
    "\n",
    "# Apply Laplacian edge detection\n",
    "laplacian = cv2.Laplacian(gray_image, cv2.CV_64F)\n",
    "\n",
    "# Apply Canny edge detection\n",
    "canny = cv2.Canny(gray_image, 100, 200)\n",
    "\n",
    "# Apply texture filtering (Gabor filter)\n",
    "kernel_size = 31\n",
    "theta = np.pi / 4\n",
    "sigma = 10\n",
    "lambda_ = 10\n",
    "gamma = 0.5\n",
    "psi = 0\n",
    "gabor_filter = cv2.getGaborKernel((kernel_size, kernel_size), sigma, theta, lambda_, gamma, psi, ktype=cv2.CV_64F)\n",
    "texture_filtered = cv2.filter2D(gray_image, cv2.CV_8UC3, gabor_filter)\n",
    "\n",
    "# Display the original image and the extracted features\n",
    "cv2.imshow('Original Image', image)\n",
    "cv2.imshow('Sobel Edges', sobel_combined)\n",
    "cv2.imshow('Laplacian Edges', laplacian)\n",
    "cv2.imshow('Canny Edges', canny)\n",
    "cv2.imshow('Texture Filtered Image', texture_filtered)\n",
    "\n",
    "cv2.waitKey(0)\n",
    "cv2.destroyAllWindows()\n"
   ]
  },
  {
   "cell_type": "code",
   "execution_count": null,
   "id": "bcd8978d",
   "metadata": {},
   "outputs": [],
   "source": []
  }
 ],
 "metadata": {
  "kernelspec": {
   "display_name": "Python 3 (ipykernel)",
   "language": "python",
   "name": "python3"
  },
  "language_info": {
   "codemirror_mode": {
    "name": "ipython",
    "version": 3
   },
   "file_extension": ".py",
   "mimetype": "text/x-python",
   "name": "python",
   "nbconvert_exporter": "python",
   "pygments_lexer": "ipython3",
   "version": "3.9.13"
  }
 },
 "nbformat": 4,
 "nbformat_minor": 5
}
