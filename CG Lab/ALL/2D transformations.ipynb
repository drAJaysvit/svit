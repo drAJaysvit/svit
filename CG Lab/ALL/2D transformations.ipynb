{
 "cells": [
  {
   "cell_type": "code",
   "execution_count": 1,
   "id": "a700a39b",
   "metadata": {},
   "outputs": [
    {
     "name": "stdout",
     "output_type": "stream",
     "text": [
      "pygame 2.5.2 (SDL 2.28.3, Python 3.9.13)\n",
      "Hello from the pygame community. https://www.pygame.org/contribute.html\n"
     ]
    }
   ],
   "source": [
    "import pygame\n",
    "import sys\n",
    "import math\n",
    "\n"
   ]
  },
  {
   "cell_type": "code",
   "execution_count": 2,
   "id": "a71d36d0",
   "metadata": {},
   "outputs": [],
   "source": [
    "# Initialize Pygame\n",
    "pygame.init()\n",
    "\n",
    "# Set up display\n",
    "screen_width = 800\n",
    "screen_height = 600\n",
    "screen = pygame.display.set_mode((screen_width, screen_height))\n",
    "pygame.display.set_caption('2D Transformations')\n",
    "\n",
    "# Define colors\n",
    "black = (0, 0, 0)\n",
    "white = (255, 255, 255)\n",
    "red = (255, 0, 0)\n",
    "\n",
    "# Define rectangle properties\n",
    "rect_width = 100\n",
    "rect_height = 60\n",
    "rect_pos = [screen_width // 2, screen_height // 2]\n",
    "rect_angle = 0\n",
    "rect_scale = 1\n",
    "\n",
    "# Clock object to control the frame rate\n",
    "clock = pygame.time.Clock()\n",
    "\n",
    "\n",
    "\n"
   ]
  },
  {
   "cell_type": "code",
   "execution_count": 3,
   "id": "2296b0ae",
   "metadata": {},
   "outputs": [],
   "source": [
    "def draw_transformed_rect(surface, color, position, width, height, angle, scale):\n",
    "    # Create a new surface\n",
    "    rect_surface = pygame.Surface((width, height), pygame.SRCALPHA)\n",
    "    rect_surface.fill(color)\n",
    "    \n",
    "    # Scale the surface\n",
    "    scaled_surface = pygame.transform.scale(rect_surface, (int(width * scale), int(height * scale)))\n",
    "    \n",
    "    # Rotate the surface\n",
    "    rotated_surface = pygame.transform.rotate(scaled_surface, angle)\n",
    "    \n",
    "    # Get the new rect and set its center\n",
    "    new_rect = rotated_surface.get_rect(center=position)\n",
    "    \n",
    "    # Blit the rotated surface onto the screen\n",
    "    surface.blit(rotated_surface, new_rect.topleft)"
   ]
  },
  {
   "cell_type": "code",
   "execution_count": 4,
   "id": "b2308fdf",
   "metadata": {},
   "outputs": [
    {
     "ename": "SystemExit",
     "evalue": "",
     "output_type": "error",
     "traceback": [
      "An exception has occurred, use %tb to see the full traceback.\n",
      "\u001b[1;31mSystemExit\u001b[0m\n"
     ]
    },
    {
     "name": "stderr",
     "output_type": "stream",
     "text": [
      "C:\\Users\\divya\\anaconda3\\lib\\site-packages\\IPython\\core\\interactiveshell.py:3465: UserWarning: To exit: use 'exit', 'quit', or Ctrl-D.\n",
      "  warn(\"To exit: use 'exit', 'quit', or Ctrl-D.\", stacklevel=1)\n"
     ]
    }
   ],
   "source": [
    "# Main loop\n",
    "running = True\n",
    "while running:\n",
    "    for event in pygame.event.get():\n",
    "        if event.type == pygame.QUIT:\n",
    "            running = False\n",
    "\n",
    "    # Transformation: Rotate and scale the rectangle\n",
    "    rect_angle += 1  # Rotate 1 degree per frame\n",
    "    rect_scale = 1 + 0.5 * math.sin(pygame.time.get_ticks() * 0.005)  # Scale with a sine wave\n",
    "\n",
    "    # Fill the screen with black\n",
    "    screen.fill(black)\n",
    "\n",
    "    # Draw the transformed rectangle\n",
    "    draw_transformed_rect(screen, red, rect_pos, rect_width, rect_height, rect_angle, rect_scale)\n",
    "\n",
    "    # Update the display\n",
    "    pygame.display.flip()\n",
    "\n",
    "    # Cap the frame rate\n",
    "    clock.tick(60)\n",
    "\n",
    "# Quit Pygame\n",
    "pygame.quit()\n",
    "sys.exit()\n"
   ]
  }
 ],
 "metadata": {
  "kernelspec": {
   "display_name": "Python 3 (ipykernel)",
   "language": "python",
   "name": "python3"
  },
  "language_info": {
   "codemirror_mode": {
    "name": "ipython",
    "version": 3
   },
   "file_extension": ".py",
   "mimetype": "text/x-python",
   "name": "python",
   "nbconvert_exporter": "python",
   "pygments_lexer": "ipython3",
   "version": "3.9.13"
  }
 },
 "nbformat": 4,
 "nbformat_minor": 5
}
