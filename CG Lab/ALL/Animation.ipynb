{
 "cells": [
  {
   "cell_type": "code",
   "execution_count": 1,
   "id": "7a330528",
   "metadata": {},
   "outputs": [
    {
     "name": "stdout",
     "output_type": "stream",
     "text": [
      "Requirement already satisfied: pygame in c:\\users\\divya\\anaconda3\\lib\\site-packages (2.5.2)\n",
      "Note: you may need to restart the kernel to use updated packages.\n"
     ]
    },
    {
     "name": "stderr",
     "output_type": "stream",
     "text": [
      "WARNING: Ignoring invalid distribution -iskit-terra (c:\\users\\divya\\anaconda3\\lib\\site-packages)\n",
      "WARNING: Ignoring invalid distribution -iskit-terra (c:\\users\\divya\\anaconda3\\lib\\site-packages)\n",
      "WARNING: Ignoring invalid distribution -iskit-terra (c:\\users\\divya\\anaconda3\\lib\\site-packages)\n",
      "WARNING: Ignoring invalid distribution -iskit-terra (c:\\users\\divya\\anaconda3\\lib\\site-packages)\n",
      "WARNING: Ignoring invalid distribution -iskit-terra (c:\\users\\divya\\anaconda3\\lib\\site-packages)\n",
      "WARNING: Ignoring invalid distribution -iskit-terra (c:\\users\\divya\\anaconda3\\lib\\site-packages)\n"
     ]
    }
   ],
   "source": [
    "pip install pygame"
   ]
  },
  {
   "cell_type": "code",
   "execution_count": 2,
   "id": "250fc4fb",
   "metadata": {},
   "outputs": [
    {
     "name": "stdout",
     "output_type": "stream",
     "text": [
      "pygame 2.5.2 (SDL 2.28.3, Python 3.9.13)\n",
      "Hello from the pygame community. https://www.pygame.org/contribute.html\n"
     ]
    },
    {
     "ename": "SystemExit",
     "evalue": "",
     "output_type": "error",
     "traceback": [
      "An exception has occurred, use %tb to see the full traceback.\n",
      "\u001b[1;31mSystemExit\u001b[0m\n"
     ]
    },
    {
     "name": "stderr",
     "output_type": "stream",
     "text": [
      "C:\\Users\\divya\\anaconda3\\lib\\site-packages\\IPython\\core\\interactiveshell.py:3465: UserWarning: To exit: use 'exit', 'quit', or Ctrl-D.\n",
      "  warn(\"To exit: use 'exit', 'quit', or Ctrl-D.\", stacklevel=1)\n"
     ]
    }
   ],
   "source": [
    "import pygame\n",
    "import sys\n",
    "\n",
    "# Initialize Pygame\n",
    "pygame.init()\n",
    "\n",
    "# Set up display\n",
    "screen_width = 800\n",
    "screen_height = 600\n",
    "screen = pygame.display.set_mode((screen_width, screen_height))\n",
    "pygame.display.set_caption('Bouncing Ball Animation')\n",
    "\n",
    "# Define colors\n",
    "black = (0, 0, 0)\n",
    "white = (255, 255, 255)\n",
    "\n",
    "# Define ball properties\n",
    "ball_size = 20\n",
    "ball_pos = [screen_width // 2, screen_height // 2]\n",
    "ball_speed = [5, 5]\n",
    "\n",
    "# Clock object to control the frame rate\n",
    "clock = pygame.time.Clock()\n",
    "\n",
    "# Main loop\n",
    "running = True\n",
    "while running:\n",
    "    for event in pygame.event.get():\n",
    "        if event.type == pygame.QUIT:\n",
    "            running = False\n",
    "\n",
    "    # Move the ball\n",
    "    ball_pos[0] += ball_speed[0]\n",
    "    ball_pos[1] += ball_speed[1]\n",
    "\n",
    "    # Bounce the ball off the walls\n",
    "    if ball_pos[0] <= ball_size or ball_pos[0] >= screen_width - ball_size:\n",
    "        ball_speed[0] = -ball_speed[0]\n",
    "    if ball_pos[1] <= ball_size or ball_pos[1] >= screen_height - ball_size:\n",
    "        ball_speed[1] = -ball_speed[1]\n",
    "\n",
    "    # Fill the screen with black\n",
    "    screen.fill(black)\n",
    "\n",
    "    # Draw the ball\n",
    "    pygame.draw.circle(screen, white, ball_pos, ball_size)\n",
    "\n",
    "    # Update the display\n",
    "    pygame.display.flip()\n",
    "\n",
    "    # Cap the frame rate\n",
    "    clock.tick(60)\n",
    "\n",
    "# Quit Pygame\n",
    "pygame.quit()\n",
    "sys.exit()\n"
   ]
  },
  {
   "cell_type": "code",
   "execution_count": 3,
   "id": "179e0b2e",
   "metadata": {},
   "outputs": [
    {
     "ename": "SystemExit",
     "evalue": "",
     "output_type": "error",
     "traceback": [
      "An exception has occurred, use %tb to see the full traceback.\n",
      "\u001b[1;31mSystemExit\u001b[0m\n"
     ]
    }
   ],
   "source": [
    "import pygame\n",
    "import sys\n",
    "\n",
    "# Initialize Pygame\n",
    "pygame.init()\n",
    "\n",
    "# Set up display\n",
    "screen_width = 800\n",
    "screen_height = 600\n",
    "screen = pygame.display.set_mode((screen_width, screen_height))\n",
    "pygame.display.set_caption('Moving Rectangle Animation')\n",
    "\n",
    "# Define colors\n",
    "black = (0, 0, 0)\n",
    "blue = (0, 0, 255)\n",
    "\n",
    "# Define rectangle properties\n",
    "rect_width = 60\n",
    "rect_height = 40\n",
    "rect_pos = [screen_width // 2, screen_height // 2]\n",
    "rect_speed = [3, 3]\n",
    "\n",
    "# Clock object to control the frame rate\n",
    "clock = pygame.time.Clock()\n",
    "\n",
    "# Main loop\n",
    "running = True\n",
    "while running:\n",
    "    for event in pygame.event.get():\n",
    "        if event.type == pygame.QUIT:\n",
    "            running = False\n",
    "\n",
    "    # Move the rectangle\n",
    "    rect_pos[0] += rect_speed[0]\n",
    "    rect_pos[1] += rect_speed[1]\n",
    "\n",
    "    # Bounce the rectangle off the walls\n",
    "    if rect_pos[0] <= 0 or rect_pos[0] >= screen_width - rect_width:\n",
    "        rect_speed[0] = -rect_speed[0]\n",
    "    if rect_pos[1] <= 0 or rect_pos[1] >= screen_height - rect_height:\n",
    "        rect_speed[1] = -rect_speed[1]\n",
    "\n",
    "    # Fill the screen with black\n",
    "    screen.fill(black)\n",
    "\n",
    "    # Draw the rectangle\n",
    "    pygame.draw.rect(screen, blue, (rect_pos[0], rect_pos[1], rect_width, rect_height))\n",
    "\n",
    "    # Update the display\n",
    "    pygame.display.flip()\n",
    "\n",
    "    # Cap the frame rate\n",
    "    clock.tick(60)\n",
    "\n",
    "# Quit Pygame\n",
    "pygame.quit()\n",
    "sys.exit()\n"
   ]
  },
  {
   "cell_type": "code",
   "execution_count": null,
   "id": "add9238d",
   "metadata": {},
   "outputs": [],
   "source": []
  }
 ],
 "metadata": {
  "kernelspec": {
   "display_name": "Python 3 (ipykernel)",
   "language": "python",
   "name": "python3"
  },
  "language_info": {
   "codemirror_mode": {
    "name": "ipython",
    "version": 3
   },
   "file_extension": ".py",
   "mimetype": "text/x-python",
   "name": "python",
   "nbconvert_exporter": "python",
   "pygments_lexer": "ipython3",
   "version": "3.9.13"
  }
 },
 "nbformat": 4,
 "nbformat_minor": 5
}
